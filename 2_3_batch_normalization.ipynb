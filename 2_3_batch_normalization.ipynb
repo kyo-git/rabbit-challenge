{
  "nbformat": 4,
  "nbformat_minor": 0,
  "metadata": {
    "kernelspec": {
      "name": "python3",
      "display_name": "Python 3"
    },
    "language_info": {
      "codemirror_mode": {
        "name": "ipython",
        "version": 3
      },
      "file_extension": ".py",
      "mimetype": "text/x-python",
      "name": "python",
      "nbconvert_exporter": "python",
      "pygments_lexer": "ipython3",
      "version": "3.6.3"
    },
    "colab": {
      "name": "2_3_batch_normalization.ipynb",
      "provenance": [],
      "collapsed_sections": [],
      "toc_visible": true,
      "include_colab_link": true
    }
  },
  "cells": [
    {
      "cell_type": "markdown",
      "metadata": {
        "id": "view-in-github",
        "colab_type": "text"
      },
      "source": [
        "<a href=\"https://colab.research.google.com/github/kyo-git/rabbit-challenge/blob/main/2_3_batch_normalization.ipynb\" target=\"_parent\"><img src=\"https://colab.research.google.com/assets/colab-badge.svg\" alt=\"Open In Colab\"/></a>"
      ]
    },
    {
      "cell_type": "markdown",
      "metadata": {
        "id": "8cNl2QA_Rnv5"
      },
      "source": [
        "# 準備"
      ]
    },
    {
      "cell_type": "markdown",
      "metadata": {
        "id": "YkwjN1jNVAYy"
      },
      "source": [
        "## Googleドライブのマウント"
      ]
    },
    {
      "cell_type": "code",
      "metadata": {
        "id": "pvFXpiH3EVC1",
        "colab": {
          "base_uri": "https://localhost:8080/"
        },
        "outputId": "520d4374-2fe6-4d5f-84ab-bb6e01375c6d"
      },
      "source": [
        "from google.colab import drive\n",
        "drive.mount('/content/drive')"
      ],
      "execution_count": 1,
      "outputs": [
        {
          "output_type": "stream",
          "text": [
            "Mounted at /content/drive\n"
          ],
          "name": "stdout"
        }
      ]
    },
    {
      "cell_type": "markdown",
      "metadata": {
        "id": "3Ub7RYdeY6pK"
      },
      "source": [
        "## sys.pathの設定"
      ]
    },
    {
      "cell_type": "markdown",
      "metadata": {
        "id": "oql7L19rEsWi"
      },
      "source": [
        "以下では，Googleドライブのマイドライブ直下にDNN_codeフォルダを置くことを仮定しています．必要に応じて，パスを変更してください．"
      ]
    },
    {
      "cell_type": "code",
      "metadata": {
        "id": "7Ic2JzkvFX59"
      },
      "source": [
        "import sys\n",
        "sys.path.append('/content/drive/My Drive/Colab Notebooks/DNN_code_colab_ver200425')\n",
        "sys.path.append('/content/drive/My Drive/Colab Notebooks/DNN_code_colab_ver200425/lesson_2')"
      ],
      "execution_count": 2,
      "outputs": []
    },
    {
      "cell_type": "markdown",
      "metadata": {
        "id": "DmeANLBkk5jy"
      },
      "source": [
        "# batch normalization"
      ]
    },
    {
      "cell_type": "code",
      "metadata": {
        "id": "F5NVcAVZk5jz"
      },
      "source": [
        "import numpy as np\n",
        "from collections import OrderedDict\n",
        "from common import layers\n",
        "from data.mnist import load_mnist\n",
        "import matplotlib.pyplot as plt\n",
        "from multi_layer_net import MultiLayerNet\n",
        "from common import optimizer\n",
        "\n",
        "# バッチ正則化 layer\n",
        "class BatchNormalization:\n",
        "    '''\n",
        "    gamma: スケール係数\n",
        "    beta: オフセット\n",
        "    momentum: 慣性\n",
        "    running_mean: テスト時に使用する平均\n",
        "    running_var: テスト時に使用する分散\n",
        "    '''\n",
        "    def __init__(self, gamma, beta, momentum=0.9, running_mean=None, running_var=None):\n",
        "        self.gamma = gamma\n",
        "        self.beta = beta\n",
        "        self.momentum = momentum\n",
        "        self.input_shape = None\n",
        "\n",
        "        self.running_mean = running_mean\n",
        "        self.running_var = running_var  \n",
        "        \n",
        "        # backward時に使用する中間データ\n",
        "        self.batch_size = None\n",
        "        self.xc = None\n",
        "        self.std = None\n",
        "        self.dgamma = None\n",
        "        self.dbeta = None\n",
        "\n",
        "    def forward(self, x, train_flg=True):\n",
        "        if self.running_mean is None:\n",
        "            N, D = x.shape\n",
        "            self.running_mean = np.zeros(D)\n",
        "            self.running_var = np.zeros(D)\n",
        "                        \n",
        "        if train_flg:\n",
        "            mu = x.mean(axis=0) # 平均\n",
        "            xc = x - mu # xをセンタリング\n",
        "            var = np.mean(xc**2, axis=0) # 分散\n",
        "            std = np.sqrt(var + 10e-7) # スケーリング\n",
        "            xn = xc / std\n",
        "            \n",
        "            self.batch_size = x.shape[0]\n",
        "            self.xc = xc\n",
        "            self.xn = xn\n",
        "            self.std = std\n",
        "            self.running_mean = self.momentum * self.running_mean + (1-self.momentum) * mu # 平均値の加重平均\n",
        "            self.running_var = self.momentum * self.running_var + (1-self.momentum) * var #分散値の加重平均\n",
        "        else:\n",
        "            xc = x - self.running_mean\n",
        "            xn = xc / ((np.sqrt(self.running_var + 10e-7)))\n",
        "            \n",
        "        out = self.gamma * xn + self.beta \n",
        "        \n",
        "        return out\n",
        "\n",
        "    def backward(self, dout):\n",
        "        dbeta = dout.sum(axis=0)\n",
        "        dgamma = np.sum(self.xn * dout, axis=0)\n",
        "        dxn = self.gamma * dout\n",
        "        dxc = dxn / self.std\n",
        "        dstd = -np.sum((dxn * self.xc) / (self.std * self.std), axis=0)\n",
        "        dvar = 0.5 * dstd / self.std\n",
        "        dxc += (2.0 / self.batch_size) * self.xc * dvar\n",
        "        dmu = np.sum(dxc, axis=0)\n",
        "        dx = dxc - dmu / self.batch_size\n",
        "        \n",
        "        self.dgamma = dgamma\n",
        "        self.dbeta = dbeta\n",
        "\n",
        "        return dx    \n"
      ],
      "execution_count": 3,
      "outputs": []
    },
    {
      "cell_type": "code",
      "metadata": {
        "id": "0PafCcEZk5j2",
        "colab": {
          "base_uri": "https://localhost:8080/",
          "height": 1000
        },
        "outputId": "d4a783dd-b336-4f7e-e1fa-ee62ac9d653e"
      },
      "source": [
        "(x_train, d_train), (x_test, d_test) = load_mnist(normalize=True)\n",
        "\n",
        "print(\"データ読み込み完了\")\n",
        "\n",
        "\n",
        "# batch_normalizationの設定 =======================\n",
        "use_batchnorm = True\n",
        "# use_batchnorm = False\n",
        "# ====================================================\n",
        "\n",
        "network = MultiLayerNet(input_size=784, hidden_size_list=[40, 20], output_size=10,\n",
        "                        activation='sigmoid', weight_init_std='Xavier', use_batchnorm=use_batchnorm)\n",
        "\n",
        "iters_num = 1000\n",
        "train_size = x_train.shape[0]\n",
        "batch_size = 100\n",
        "learning_rate=0.01\n",
        "\n",
        "train_loss_list = []\n",
        "accuracies_train = []\n",
        "accuracies_test = []\n",
        "\n",
        "plot_interval=10\n",
        "\n",
        "\n",
        "for i in range(iters_num):\n",
        "    batch_mask = np.random.choice(train_size, batch_size)\n",
        "    x_batch = x_train[batch_mask]\n",
        "    d_batch = d_train[batch_mask]\n",
        "\n",
        "    grad = network.gradient(x_batch, d_batch)\n",
        "    for key in ('W1', 'W2', 'W3', 'b1', 'b2', 'b3'):\n",
        "        network.params[key] -= learning_rate * grad[key]\n",
        "\n",
        "        loss = network.loss(x_batch, d_batch)\n",
        "        train_loss_list.append(loss)        \n",
        "        \n",
        "    if (i + 1) % plot_interval == 0:\n",
        "        accr_test = network.accuracy(x_test, d_test)\n",
        "        accuracies_test.append(accr_test)        \n",
        "        accr_train = network.accuracy(x_batch, d_batch)\n",
        "        accuracies_train.append(accr_train)\n",
        "        \n",
        "        print('Generation: ' + str(i+1) + '. 正答率(トレーニング) = ' + str(accr_train))\n",
        "        print('                : ' + str(i+1) + '. 正答率(テスト) = ' + str(accr_test))\n",
        "                \n",
        "\n",
        "lists = range(0, iters_num, plot_interval)\n",
        "plt.plot(lists, accuracies_train, label=\"training set\")\n",
        "plt.plot(lists, accuracies_test,  label=\"test set\")\n",
        "plt.legend(loc=\"lower right\")\n",
        "plt.title(\"accuracy\")\n",
        "plt.xlabel(\"count\")\n",
        "plt.ylabel(\"accuracy\")\n",
        "plt.ylim(0, 1.0)\n",
        "# グラフの表示\n",
        "plt.show()"
      ],
      "execution_count": 4,
      "outputs": [
        {
          "output_type": "stream",
          "text": [
            "データ読み込み完了\n",
            "Generation: 10. 正答率(トレーニング) = 0.06\n",
            "                : 10. 正答率(テスト) = 0.1034\n",
            "Generation: 20. 正答率(トレーニング) = 0.17\n",
            "                : 20. 正答率(テスト) = 0.1104\n",
            "Generation: 30. 正答率(トレーニング) = 0.12\n",
            "                : 30. 正答率(テスト) = 0.1432\n",
            "Generation: 40. 正答率(トレーニング) = 0.17\n",
            "                : 40. 正答率(テスト) = 0.1882\n",
            "Generation: 50. 正答率(トレーニング) = 0.17\n",
            "                : 50. 正答率(テスト) = 0.2179\n",
            "Generation: 60. 正答率(トレーニング) = 0.17\n",
            "                : 60. 正答率(テスト) = 0.2468\n",
            "Generation: 70. 正答率(トレーニング) = 0.34\n",
            "                : 70. 正答率(テスト) = 0.2726\n",
            "Generation: 80. 正答率(トレーニング) = 0.31\n",
            "                : 80. 正答率(テスト) = 0.2964\n",
            "Generation: 90. 正答率(トレーニング) = 0.31\n",
            "                : 90. 正答率(テスト) = 0.323\n",
            "Generation: 100. 正答率(トレーニング) = 0.33\n",
            "                : 100. 正答率(テスト) = 0.3544\n",
            "Generation: 110. 正答率(トレーニング) = 0.39\n",
            "                : 110. 正答率(テスト) = 0.3825\n",
            "Generation: 120. 正答率(トレーニング) = 0.36\n",
            "                : 120. 正答率(テスト) = 0.4033\n",
            "Generation: 130. 正答率(トレーニング) = 0.44\n",
            "                : 130. 正答率(テスト) = 0.4333\n",
            "Generation: 140. 正答率(トレーニング) = 0.55\n",
            "                : 140. 正答率(テスト) = 0.4649\n",
            "Generation: 150. 正答率(トレーニング) = 0.43\n",
            "                : 150. 正答率(テスト) = 0.491\n",
            "Generation: 160. 正答率(トレーニング) = 0.61\n",
            "                : 160. 正答率(テスト) = 0.5045\n",
            "Generation: 170. 正答率(トレーニング) = 0.51\n",
            "                : 170. 正答率(テスト) = 0.5242\n",
            "Generation: 180. 正答率(トレーニング) = 0.48\n",
            "                : 180. 正答率(テスト) = 0.5371\n",
            "Generation: 190. 正答率(トレーニング) = 0.6\n",
            "                : 190. 正答率(テスト) = 0.5544\n",
            "Generation: 200. 正答率(トレーニング) = 0.54\n",
            "                : 200. 正答率(テスト) = 0.5709\n",
            "Generation: 210. 正答率(トレーニング) = 0.6\n",
            "                : 210. 正答率(テスト) = 0.5901\n",
            "Generation: 220. 正答率(トレーニング) = 0.54\n",
            "                : 220. 正答率(テスト) = 0.6014\n",
            "Generation: 230. 正答率(トレーニング) = 0.57\n",
            "                : 230. 正答率(テスト) = 0.615\n",
            "Generation: 240. 正答率(トレーニング) = 0.54\n",
            "                : 240. 正答率(テスト) = 0.6254\n",
            "Generation: 250. 正答率(トレーニング) = 0.62\n",
            "                : 250. 正答率(テスト) = 0.6378\n",
            "Generation: 260. 正答率(トレーニング) = 0.63\n",
            "                : 260. 正答率(テスト) = 0.6435\n",
            "Generation: 270. 正答率(トレーニング) = 0.66\n",
            "                : 270. 正答率(テスト) = 0.6577\n",
            "Generation: 280. 正答率(トレーニング) = 0.7\n",
            "                : 280. 正答率(テスト) = 0.6624\n",
            "Generation: 290. 正答率(トレーニング) = 0.7\n",
            "                : 290. 正答率(テスト) = 0.6712\n",
            "Generation: 300. 正答率(トレーニング) = 0.62\n",
            "                : 300. 正答率(テスト) = 0.6801\n",
            "Generation: 310. 正答率(トレーニング) = 0.68\n",
            "                : 310. 正答率(テスト) = 0.6804\n",
            "Generation: 320. 正答率(トレーニング) = 0.59\n",
            "                : 320. 正答率(テスト) = 0.6863\n",
            "Generation: 330. 正答率(トレーニング) = 0.68\n",
            "                : 330. 正答率(テスト) = 0.6886\n",
            "Generation: 340. 正答率(トレーニング) = 0.67\n",
            "                : 340. 正答率(テスト) = 0.6942\n",
            "Generation: 350. 正答率(トレーニング) = 0.67\n",
            "                : 350. 正答率(テスト) = 0.6975\n",
            "Generation: 360. 正答率(トレーニング) = 0.68\n",
            "                : 360. 正答率(テスト) = 0.7007\n",
            "Generation: 370. 正答率(トレーニング) = 0.68\n",
            "                : 370. 正答率(テスト) = 0.7056\n",
            "Generation: 380. 正答率(トレーニング) = 0.67\n",
            "                : 380. 正答率(テスト) = 0.7109\n",
            "Generation: 390. 正答率(トレーニング) = 0.7\n",
            "                : 390. 正答率(テスト) = 0.7168\n",
            "Generation: 400. 正答率(トレーニング) = 0.69\n",
            "                : 400. 正答率(テスト) = 0.7203\n",
            "Generation: 410. 正答率(トレーニング) = 0.7\n",
            "                : 410. 正答率(テスト) = 0.7222\n",
            "Generation: 420. 正答率(トレーニング) = 0.72\n",
            "                : 420. 正答率(テスト) = 0.729\n",
            "Generation: 430. 正答率(トレーニング) = 0.78\n",
            "                : 430. 正答率(テスト) = 0.7318\n",
            "Generation: 440. 正答率(トレーニング) = 0.81\n",
            "                : 440. 正答率(テスト) = 0.7351\n",
            "Generation: 450. 正答率(トレーニング) = 0.76\n",
            "                : 450. 正答率(テスト) = 0.7416\n",
            "Generation: 460. 正答率(トレーニング) = 0.73\n",
            "                : 460. 正答率(テスト) = 0.744\n",
            "Generation: 470. 正答率(トレーニング) = 0.65\n",
            "                : 470. 正答率(テスト) = 0.7482\n",
            "Generation: 480. 正答率(トレーニング) = 0.72\n",
            "                : 480. 正答率(テスト) = 0.7506\n",
            "Generation: 490. 正答率(トレーニング) = 0.79\n",
            "                : 490. 正答率(テスト) = 0.7548\n",
            "Generation: 500. 正答率(トレーニング) = 0.72\n",
            "                : 500. 正答率(テスト) = 0.757\n",
            "Generation: 510. 正答率(トレーニング) = 0.77\n",
            "                : 510. 正答率(テスト) = 0.7577\n",
            "Generation: 520. 正答率(トレーニング) = 0.74\n",
            "                : 520. 正答率(テスト) = 0.7599\n",
            "Generation: 530. 正答率(トレーニング) = 0.81\n",
            "                : 530. 正答率(テスト) = 0.7642\n",
            "Generation: 540. 正答率(トレーニング) = 0.79\n",
            "                : 540. 正答率(テスト) = 0.7677\n",
            "Generation: 550. 正答率(トレーニング) = 0.74\n",
            "                : 550. 正答率(テスト) = 0.7681\n",
            "Generation: 560. 正答率(トレーニング) = 0.71\n",
            "                : 560. 正答率(テスト) = 0.7687\n",
            "Generation: 570. 正答率(トレーニング) = 0.83\n",
            "                : 570. 正答率(テスト) = 0.77\n",
            "Generation: 580. 正答率(トレーニング) = 0.79\n",
            "                : 580. 正答率(テスト) = 0.771\n",
            "Generation: 590. 正答率(トレーニング) = 0.72\n",
            "                : 590. 正答率(テスト) = 0.7717\n",
            "Generation: 600. 正答率(トレーニング) = 0.71\n",
            "                : 600. 正答率(テスト) = 0.7723\n",
            "Generation: 610. 正答率(トレーニング) = 0.75\n",
            "                : 610. 正答率(テスト) = 0.7761\n",
            "Generation: 620. 正答率(トレーニング) = 0.73\n",
            "                : 620. 正答率(テスト) = 0.7773\n",
            "Generation: 630. 正答率(トレーニング) = 0.72\n",
            "                : 630. 正答率(テスト) = 0.7766\n",
            "Generation: 640. 正答率(トレーニング) = 0.7\n",
            "                : 640. 正答率(テスト) = 0.7792\n",
            "Generation: 650. 正答率(トレーニング) = 0.69\n",
            "                : 650. 正答率(テスト) = 0.7817\n",
            "Generation: 660. 正答率(トレーニング) = 0.67\n",
            "                : 660. 正答率(テスト) = 0.7843\n",
            "Generation: 670. 正答率(トレーニング) = 0.72\n",
            "                : 670. 正答率(テスト) = 0.787\n",
            "Generation: 680. 正答率(トレーニング) = 0.66\n",
            "                : 680. 正答率(テスト) = 0.786\n",
            "Generation: 690. 正答率(トレーニング) = 0.75\n",
            "                : 690. 正答率(テスト) = 0.7863\n",
            "Generation: 700. 正答率(トレーニング) = 0.77\n",
            "                : 700. 正答率(テスト) = 0.7893\n",
            "Generation: 710. 正答率(トレーニング) = 0.78\n",
            "                : 710. 正答率(テスト) = 0.7918\n",
            "Generation: 720. 正答率(トレーニング) = 0.83\n",
            "                : 720. 正答率(テスト) = 0.7919\n",
            "Generation: 730. 正答率(トレーニング) = 0.68\n",
            "                : 730. 正答率(テスト) = 0.7957\n",
            "Generation: 740. 正答率(トレーニング) = 0.8\n",
            "                : 740. 正答率(テスト) = 0.796\n",
            "Generation: 750. 正答率(トレーニング) = 0.79\n",
            "                : 750. 正答率(テスト) = 0.7964\n",
            "Generation: 760. 正答率(トレーニング) = 0.76\n",
            "                : 760. 正答率(テスト) = 0.8002\n",
            "Generation: 770. 正答率(トレーニング) = 0.7\n",
            "                : 770. 正答率(テスト) = 0.8004\n",
            "Generation: 780. 正答率(トレーニング) = 0.76\n",
            "                : 780. 正答率(テスト) = 0.8033\n",
            "Generation: 790. 正答率(トレーニング) = 0.8\n",
            "                : 790. 正答率(テスト) = 0.7983\n",
            "Generation: 800. 正答率(トレーニング) = 0.86\n",
            "                : 800. 正答率(テスト) = 0.7985\n",
            "Generation: 810. 正答率(トレーニング) = 0.82\n",
            "                : 810. 正答率(テスト) = 0.8014\n",
            "Generation: 820. 正答率(トレーニング) = 0.75\n",
            "                : 820. 正答率(テスト) = 0.8008\n",
            "Generation: 830. 正答率(トレーニング) = 0.74\n",
            "                : 830. 正答率(テスト) = 0.8027\n",
            "Generation: 840. 正答率(トレーニング) = 0.77\n",
            "                : 840. 正答率(テスト) = 0.8008\n",
            "Generation: 850. 正答率(トレーニング) = 0.75\n",
            "                : 850. 正答率(テスト) = 0.8022\n",
            "Generation: 860. 正答率(トレーニング) = 0.8\n",
            "                : 860. 正答率(テスト) = 0.8062\n",
            "Generation: 870. 正答率(トレーニング) = 0.77\n",
            "                : 870. 正答率(テスト) = 0.8075\n",
            "Generation: 880. 正答率(トレーニング) = 0.77\n",
            "                : 880. 正答率(テスト) = 0.81\n",
            "Generation: 890. 正答率(トレーニング) = 0.79\n",
            "                : 890. 正答率(テスト) = 0.8103\n",
            "Generation: 900. 正答率(トレーニング) = 0.79\n",
            "                : 900. 正答率(テスト) = 0.808\n",
            "Generation: 910. 正答率(トレーニング) = 0.82\n",
            "                : 910. 正答率(テスト) = 0.8093\n",
            "Generation: 920. 正答率(トレーニング) = 0.84\n",
            "                : 920. 正答率(テスト) = 0.8109\n",
            "Generation: 930. 正答率(トレーニング) = 0.8\n",
            "                : 930. 正答率(テスト) = 0.8109\n",
            "Generation: 940. 正答率(トレーニング) = 0.78\n",
            "                : 940. 正答率(テスト) = 0.8109\n",
            "Generation: 950. 正答率(トレーニング) = 0.82\n",
            "                : 950. 正答率(テスト) = 0.8111\n",
            "Generation: 960. 正答率(トレーニング) = 0.86\n",
            "                : 960. 正答率(テスト) = 0.8117\n",
            "Generation: 970. 正答率(トレーニング) = 0.74\n",
            "                : 970. 正答率(テスト) = 0.811\n",
            "Generation: 980. 正答率(トレーニング) = 0.81\n",
            "                : 980. 正答率(テスト) = 0.8132\n",
            "Generation: 990. 正答率(トレーニング) = 0.81\n",
            "                : 990. 正答率(テスト) = 0.8162\n",
            "Generation: 1000. 正答率(トレーニング) = 0.8\n",
            "                : 1000. 正答率(テスト) = 0.8143\n"
          ],
          "name": "stdout"
        },
        {
          "output_type": "display_data",
          "data": {
            "image/png": "[encoded data removed]",
            "text/plain": [
              "<Figure size 432x288 with 1 Axes>"
            ]
          },
          "metadata": {
            "tags": [],
            "needs_background": "light"
          }
        }
      ]
    },
    {
      "cell_type": "markdown",
      "metadata": {
        "id": "6hJDgvXhk5j6"
      },
      "source": [
        "----------------------------------------------------------------------------------------------------------------------------------------------------------------------------\n",
        "## [try] 活性化関数や重みの初期値を変えてみよう\n",
        "----------------------------------------------------------------------------------------------------------------------------------------------------------------------------"
      ]
    }
  ]
}